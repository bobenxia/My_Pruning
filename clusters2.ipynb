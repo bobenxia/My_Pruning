{
 "cells": [
  {
   "cell_type": "code",
   "execution_count": 10,
   "metadata": {},
   "outputs": [
    {
     "name": "stdout",
     "output_type": "stream",
     "text": [
      "[  64   64   64  256  256   64   64  256   64   64  256  128  128  512\n",
      "  512  128  128  512  128  128  512  128  128  512  256  256 1024 1024\n",
      "  256  256 1024  256  256 1024  256  256 1024  256  256 1024  256  256\n",
      " 1024  512  512 2048 2048  512  512 2048  512  512 2048]\n",
      "[64  1  1  1  1  1  1  1  1  1  1  1  1  1  1  1  1  1  1  1  1  1  1  1\n",
      "  1  1  1  1  1  1  1  1  1  1  1  1  1  1  1  1  1  1  1  1  1  1  1  1\n",
      "  1  1  1  1  1]\n"
     ]
    }
   ],
   "source": [
    "from utils.cluster_params import *\n",
    "from utils.constant import *\n",
    "import numpy as np\n",
    "\n",
    "target_deps_for_kernel_matrix = generate_itr_to_target_deps_by_schedule_vector(1, RESNET50_ORIGIN_DEPS_FLATTENED, RESNET50_INTERNAL_KERNEL_IDXES)\n",
    "print(target_deps_for_kernel_matrix)\n",
    "target_deps_for_decay_matrix = generate_itr_to_target_deps_by_schedule_vector(0, RESNET50_ORIGIN_DEPS_FLATTENED, RESNET50_INTERNAL_KERNEL_IDXES)\n",
    "print(target_deps_for_decay_matrix)"
   ]
  },
  {
   "cell_type": "code",
   "execution_count": 11,
   "metadata": {},
   "outputs": [],
   "source": [
    "from utils.model_utils import *\n",
    "import torchvision\n",
    "\n",
    "model = torchvision.models.resnet50(pretrained=True)\n",
    "engine = ModelUtils(local_rank=0, for_eval=True)\n",
    "engine.register_state(model=model)\n",
    "kernel_namedvalue_list = engine.get_all_conv_kernel_namedvalue_as_list()\n",
    "# print(kernel_namedvalue_list)"
   ]
  },
  {
   "cell_type": "code",
   "execution_count": 15,
   "metadata": {},
   "outputs": [
    {
     "name": "stdout",
     "output_type": "stream",
     "text": [
      "dict_keys([0, 1, 2, 4, 5, 6, 8, 9, 11, 12, 14, 15, 16, 18, 19, 21, 22, 24, 25, 27, 28, 29, 31, 32, 34, 35, 37, 38, 40, 41, 43, 44, 46, 47, 48, 50, 51, 3, 7, 10, 13, 17, 20, 23, 26, 30, 33, 36, 39, 42, 45, 49, 52])\n",
      "[[0], [1], [2], [3], [4], [5], [6], [7], [8], [9], [10], [11], [12], [13], [14], [15], [16], [17], [18], [19], [20], [21], [22], [23], [24], [25], [26], [27], [28], [29], [30], [31], [32], [33], [34], [35], [36], [37], [38], [39], [40], [41], [42], [43], [44], [45], [46], [47], [48], [49], [50], [51], [52], [53], [54], [55], [56], [57], [58], [59], [60], [61], [62], [63]]\n",
      "dict_keys([0, 1, 2, 4, 5, 6, 8, 9, 11, 12, 14, 15, 16, 18, 19, 21, 22, 24, 25, 27, 28, 29, 31, 32, 34, 35, 37, 38, 40, 41, 43, 44, 46, 47, 48, 50, 51, 3, 7, 10, 13, 17, 20, 23, 26, 30, 33, 36, 39, 42, 45, 49, 52])\n",
      "[[0, 1, 2, 3, 4, 5, 6, 7, 8, 9, 10, 11, 12, 13, 14, 15, 16, 17, 18, 19, 20, 21, 22, 23, 24, 25, 26, 27, 28, 29, 30, 31, 32, 33, 34, 35, 36, 37, 38, 39, 40, 41, 42, 43, 44, 45, 46, 47, 48, 49, 50, 51, 52, 53, 54, 55, 56, 57, 58, 59, 60, 61, 62, 63]]\n"
     ]
    }
   ],
   "source": [
    "pacesetter_dict = {\n",
    "        4: 4,3: 4,7: 4,10: 4,14: 14,\n",
    "        13: 14,17: 14,20: 14,23: 14,27: 27,26: 27,30: 27,33: 27,36: 27,\n",
    "        39: 27,42: 27,46: 46,45: 46,49: 46,52: 46\n",
    "    }\n",
    "# 生成 layer_idx_to_clusters 为了计算 kernel matrix\n",
    "layer_idx_to_clusters_for_kernel_matrix = get_layer_idx_to_clusters(kernel_namedvalue_list=kernel_namedvalue_list,\n",
    "                                                                  target_deps=target_deps_for_kernel_matrix,\n",
    "                                                                  pacesetter_dict=pacesetter_dict)\n",
    "\n",
    "if pacesetter_dict is not None:\n",
    "    for follower_idx, pacesetter_idx in pacesetter_dict.items():\n",
    "        # 这里将残差的最后一层的剪枝方案直接等同于直连的剪枝方案\n",
    "        if pacesetter_idx in layer_idx_to_clusters_for_kernel_matrix:\n",
    "            layer_idx_to_clusters_for_kernel_matrix[follower_idx] = layer_idx_to_clusters_for_kernel_matrix[pacesetter_idx]\n",
    "            \n",
    "print(layer_idx_to_clusters_for_kernel_matrix.keys())\n",
    "print(layer_idx_to_clusters_for_kernel_matrix[1])\n",
    "\n",
    "# 生成 layer_idx_to_clusters 为了计算 decay matrix\n",
    "layer_idx_to_clusters_for_decay_matrix = get_layer_idx_to_clusters(kernel_namedvalue_list=kernel_namedvalue_list,\n",
    "                                                                  target_deps=target_deps_for_decay_matrix,\n",
    "                                                                  pacesetter_dict=pacesetter_dict)\n",
    "\n",
    "if pacesetter_dict is not None:\n",
    "    for follower_idx, pacesetter_idx in pacesetter_dict.items():\n",
    "        # 这里将残差的最后一层的剪枝方案直接等同于直连的剪枝方案\n",
    "        if pacesetter_idx in layer_idx_to_clusters_for_decay_matrix:\n",
    "            layer_idx_to_clusters_for_decay_matrix[follower_idx] = layer_idx_to_clusters_for_decay_matrix[pacesetter_idx]\n",
    "\n",
    "print(layer_idx_to_clusters_for_decay_matrix.keys())\n",
    "print(layer_idx_to_clusters_for_decay_matrix[1])"
   ]
  },
  {
   "cell_type": "code",
   "execution_count": 14,
   "metadata": {},
   "outputs": [
    {
     "name": "stdout",
     "output_type": "stream",
     "text": [
      "tensor([[1., 0., 0.,  ..., 0., 0., 0.],\n",
      "        [0., 1., 0.,  ..., 0., 0., 0.],\n",
      "        [0., 0., 1.,  ..., 0., 0., 0.],\n",
      "        ...,\n",
      "        [0., 0., 0.,  ..., 1., 0., 0.],\n",
      "        [0., 0., 0.,  ..., 0., 1., 0.],\n",
      "        [0., 0., 0.,  ..., 0., 0., 1.]], device='cuda:0')\n"
     ]
    }
   ],
   "source": [
    "deps = RESNET50_ORIGIN_DEPS_FLATTENED  # resnet50 的 通道数量\n",
    "param_name_to_merge_matrix = generate_merge_matrix_for_kernel(deps=deps,\n",
    "                                                                      layer_idx_to_clusters=layer_idx_to_clusters_for_kernel_matrix,\n",
    "                                                                      kernel_namedvalue_list=kernel_namedvalue_list)\n",
    "add_vecs_to_merge_mat_dicts(param_name_to_merge_matrix)\n",
    "# print(param_name_to_merge_matrix.keys())\n",
    "print(param_name_to_merge_matrix['layer1.0.conv1.weight'])"
   ]
  },
  {
   "cell_type": "code",
   "execution_count": 16,
   "metadata": {},
   "outputs": [
    {
     "name": "stdout",
     "output_type": "stream",
     "text": [
      "tensor([[ 1.0844e-03, -1.5625e-05, -1.5625e-05,  ..., -1.5625e-05,\n",
      "         -1.5625e-05, -1.5625e-05],\n",
      "        [-1.5625e-05,  1.0844e-03, -1.5625e-05,  ..., -1.5625e-05,\n",
      "         -1.5625e-05, -1.5625e-05],\n",
      "        [-1.5625e-05, -1.5625e-05,  1.0844e-03,  ..., -1.5625e-05,\n",
      "         -1.5625e-05, -1.5625e-05],\n",
      "        ...,\n",
      "        [-1.5625e-05, -1.5625e-05, -1.5625e-05,  ...,  1.0844e-03,\n",
      "         -1.5625e-05, -1.5625e-05],\n",
      "        [-1.5625e-05, -1.5625e-05, -1.5625e-05,  ..., -1.5625e-05,\n",
      "          1.0844e-03, -1.5625e-05],\n",
      "        [-1.5625e-05, -1.5625e-05, -1.5625e-05,  ..., -1.5625e-05,\n",
      "         -1.5625e-05,  1.0844e-03]], device='cuda:0')\n"
     ]
    }
   ],
   "source": [
    "deps = RESNET50_ORIGIN_DEPS_FLATTENED  # resnet50 的 通道数量\n",
    "param_name_to_decay_matrix = generate_decay_matrix_for_kernel_and_vecs(\n",
    "            deps=deps,\n",
    "            layer_idx_to_clusters=layer_idx_to_clusters_for_decay_matrix,\n",
    "            kernel_namedvalue_list=kernel_namedvalue_list,\n",
    "            weight_decay=1e-4,\n",
    "            weight_decay_bias=0,\n",
    "            centri_strength=0.001)\n",
    "# print(param_name_to_decay_matrix.keys())\n",
    "print(param_name_to_decay_matrix['layer1.0.conv1.weight'])"
   ]
  },
  {
   "cell_type": "code",
   "execution_count": 16,
   "metadata": {},
   "outputs": [
    {
     "name": "stdout",
     "output_type": "stream",
     "text": [
      "dict_keys(['layer1.0.conv1.weight', 'layer1.0.conv2.weight', 'layer1.0.downsample.0.weight', 'layer1.1.conv1.weight', 'layer1.1.conv2.weight', 'layer1.2.conv1.weight', 'layer1.2.conv2.weight', 'layer2.0.conv1.weight', 'layer2.0.conv2.weight', 'layer2.0.downsample.0.weight', 'layer2.1.conv1.weight', 'layer2.1.conv2.weight', 'layer2.2.conv1.weight', 'layer2.2.conv2.weight', 'layer2.3.conv1.weight', 'layer2.3.conv2.weight', 'layer3.0.conv1.weight', 'layer3.0.conv2.weight', 'layer3.0.downsample.0.weight', 'layer3.1.conv1.weight', 'layer3.1.conv2.weight', 'layer3.2.conv1.weight', 'layer3.2.conv2.weight', 'layer3.3.conv1.weight', 'layer3.3.conv2.weight', 'layer3.4.conv1.weight', 'layer3.4.conv2.weight', 'layer3.5.conv1.weight', 'layer3.5.conv2.weight', 'layer4.0.conv1.weight', 'layer4.0.conv2.weight', 'layer4.0.downsample.0.weight', 'layer4.1.conv1.weight', 'layer4.1.conv2.weight', 'layer4.2.conv1.weight', 'layer4.2.conv2.weight', 'layer1.0.conv3.weight', 'layer1.1.conv3.weight', 'layer1.2.conv3.weight', 'layer2.0.conv3.weight', 'layer2.1.conv3.weight', 'layer2.2.conv3.weight', 'layer2.3.conv3.weight', 'layer3.0.conv3.weight', 'layer3.1.conv3.weight', 'layer3.2.conv3.weight', 'layer3.3.conv3.weight', 'layer3.4.conv3.weight', 'layer3.5.conv3.weight', 'layer4.0.conv3.weight', 'layer4.1.conv3.weight', 'layer4.2.conv3.weight', 'layer1.0.conv1.bias', 'layer1.0.bn1.weight', 'layer1.0.bn1.bias', 'layer1.0.conv2.bias', 'layer1.0.bn2.weight', 'layer1.0.bn2.bias', 'layer1.0.downsample.0.bias', 'layer1.0.downsample.1.weight', 'layer1.0.downsample.1.bias', 'layer1.1.conv1.bias', 'layer1.1.bn1.weight', 'layer1.1.bn1.bias', 'layer1.1.conv2.bias', 'layer1.1.bn2.weight', 'layer1.1.bn2.bias', 'layer1.2.conv1.bias', 'layer1.2.bn1.weight', 'layer1.2.bn1.bias', 'layer1.2.conv2.bias', 'layer1.2.bn2.weight', 'layer1.2.bn2.bias', 'layer2.0.conv1.bias', 'layer2.0.bn1.weight', 'layer2.0.bn1.bias', 'layer2.0.conv2.bias', 'layer2.0.bn2.weight', 'layer2.0.bn2.bias', 'layer2.0.downsample.0.bias', 'layer2.0.downsample.1.weight', 'layer2.0.downsample.1.bias', 'layer2.1.conv1.bias', 'layer2.1.bn1.weight', 'layer2.1.bn1.bias', 'layer2.1.conv2.bias', 'layer2.1.bn2.weight', 'layer2.1.bn2.bias', 'layer2.2.conv1.bias', 'layer2.2.bn1.weight', 'layer2.2.bn1.bias', 'layer2.2.conv2.bias', 'layer2.2.bn2.weight', 'layer2.2.bn2.bias', 'layer2.3.conv1.bias', 'layer2.3.bn1.weight', 'layer2.3.bn1.bias', 'layer2.3.conv2.bias', 'layer2.3.bn2.weight', 'layer2.3.bn2.bias', 'layer3.0.conv1.bias', 'layer3.0.bn1.weight', 'layer3.0.bn1.bias', 'layer3.0.conv2.bias', 'layer3.0.bn2.weight', 'layer3.0.bn2.bias', 'layer3.0.downsample.0.bias', 'layer3.0.downsample.1.weight', 'layer3.0.downsample.1.bias', 'layer3.1.conv1.bias', 'layer3.1.bn1.weight', 'layer3.1.bn1.bias', 'layer3.1.conv2.bias', 'layer3.1.bn2.weight', 'layer3.1.bn2.bias', 'layer3.2.conv1.bias', 'layer3.2.bn1.weight', 'layer3.2.bn1.bias', 'layer3.2.conv2.bias', 'layer3.2.bn2.weight', 'layer3.2.bn2.bias', 'layer3.3.conv1.bias', 'layer3.3.bn1.weight', 'layer3.3.bn1.bias', 'layer3.3.conv2.bias', 'layer3.3.bn2.weight', 'layer3.3.bn2.bias', 'layer3.4.conv1.bias', 'layer3.4.bn1.weight', 'layer3.4.bn1.bias', 'layer3.4.conv2.bias', 'layer3.4.bn2.weight', 'layer3.4.bn2.bias', 'layer3.5.conv1.bias', 'layer3.5.bn1.weight', 'layer3.5.bn1.bias', 'layer3.5.conv2.bias', 'layer3.5.bn2.weight', 'layer3.5.bn2.bias', 'layer4.0.conv1.bias', 'layer4.0.bn1.weight', 'layer4.0.bn1.bias', 'layer4.0.conv2.bias', 'layer4.0.bn2.weight', 'layer4.0.bn2.bias', 'layer4.0.downsample.0.bias', 'layer4.0.downsample.1.weight', 'layer4.0.downsample.1.bias', 'layer4.1.conv1.bias', 'layer4.1.bn1.weight', 'layer4.1.bn1.bias', 'layer4.1.conv2.bias', 'layer4.1.bn2.weight', 'layer4.1.bn2.bias', 'layer4.2.conv1.bias', 'layer4.2.bn1.weight', 'layer4.2.bn1.bias', 'layer4.2.conv2.bias', 'layer4.2.bn2.weight', 'layer4.2.bn2.bias', 'layer1.0.conv3.bias', 'layer1.0.bn3.weight', 'layer1.0.bn3.bias', 'layer1.1.conv3.bias', 'layer1.1.bn3.weight', 'layer1.1.bn3.bias', 'layer1.2.conv3.bias', 'layer1.2.bn3.weight', 'layer1.2.bn3.bias', 'layer2.0.conv3.bias', 'layer2.0.bn3.weight', 'layer2.0.bn3.bias', 'layer2.1.conv3.bias', 'layer2.1.bn3.weight', 'layer2.1.bn3.bias', 'layer2.2.conv3.bias', 'layer2.2.bn3.weight', 'layer2.2.bn3.bias', 'layer2.3.conv3.bias', 'layer2.3.bn3.weight', 'layer2.3.bn3.bias', 'layer3.0.conv3.bias', 'layer3.0.bn3.weight', 'layer3.0.bn3.bias', 'layer3.1.conv3.bias', 'layer3.1.bn3.weight', 'layer3.1.bn3.bias', 'layer3.2.conv3.bias', 'layer3.2.bn3.weight', 'layer3.2.bn3.bias', 'layer3.3.conv3.bias', 'layer3.3.bn3.weight', 'layer3.3.bn3.bias', 'layer3.4.conv3.bias', 'layer3.4.bn3.weight', 'layer3.4.bn3.bias', 'layer3.5.conv3.bias', 'layer3.5.bn3.weight', 'layer3.5.bn3.bias', 'layer4.0.conv3.bias', 'layer4.0.bn3.weight', 'layer4.0.bn3.bias', 'layer4.1.conv3.bias', 'layer4.1.bn3.weight', 'layer4.1.bn3.bias', 'layer4.2.conv3.bias', 'layer4.2.bn3.weight', 'layer4.2.bn3.bias'])\n"
     ]
    }
   ],
   "source": []
  },
  {
   "cell_type": "code",
   "execution_count": null,
   "metadata": {},
   "outputs": [],
   "source": []
  }
 ],
 "metadata": {
  "interpreter": {
   "hash": "5b3ded1ccb95c1d9bd405e7b823d9e85424cde40fbb5985eb47e999ef50e15b4"
  },
  "kernelspec": {
   "display_name": "Python 3.8.10 64-bit",
   "language": "python",
   "name": "python3"
  },
  "language_info": {
   "codemirror_mode": {
    "name": "ipython",
    "version": 3
   },
   "file_extension": ".py",
   "mimetype": "text/x-python",
   "name": "python",
   "nbconvert_exporter": "python",
   "pygments_lexer": "ipython3",
   "version": "3.8.10"
  },
  "orig_nbformat": 4
 },
 "nbformat": 4,
 "nbformat_minor": 2
}
